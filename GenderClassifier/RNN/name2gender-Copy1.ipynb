{
 "cells": [
  {
   "cell_type": "code",
   "execution_count": 4,
   "metadata": {
    "collapsed": true
   },
   "outputs": [],
   "source": [
    "import random\n",
    "import csv\n",
    "import string\n",
    "import math\n",
    "import time\n",
    "import nltk\n",
    "from nltk.corpus import names\n",
    "from nltk.classify import apply_features\n",
    "import numpy as np\n",
    "import pickle\n",
    "\n",
    "\n",
    "from data_util import *"
   ]
  },
  {
   "cell_type": "code",
   "execution_count": 48,
   "metadata": {
    "collapsed": true
   },
   "outputs": [],
   "source": [
    "NB_WEIGHTS = \"weights/nb/naive_bayes_weights\""
   ]
  },
  {
   "cell_type": "code",
   "execution_count": 11,
   "metadata": {
    "collapsed": true
   },
   "outputs": [],
   "source": [
    "def _gender_features(name):\n",
    "    features = {}\n",
    "    features[\"last_letter\"] = name[-1].lower()\n",
    "    features[\"first_letter\"] = name[0].lower()\n",
    "    for letter in string.ascii_lowercase:\n",
    "        features[\"count(%s)\" % letter] = name.lower().count(letter)\n",
    "        features[\"has(%s)\" % letter] = (letter in name.lower())\n",
    "    # names ending in -yn are mostly female, names ending in -ch ar mostly male, so add 2 more features\n",
    "    features[\"suffix2\"] = name[-2:]\n",
    "    features[\"suffix3\"] = name[-3:]\n",
    "    features[\"suffix4\"] = name[-4:]\n",
    "    return features"
   ]
  },
  {
   "cell_type": "code",
   "execution_count": 44,
   "metadata": {
    "collapsed": true
   },
   "outputs": [],
   "source": [
    "def train(trainset=trainset, valset=valset, weight_file=NB_WEIGHTS):\n",
    "    \"\"\"trains classifier on name->gender\n",
    "    \n",
    "    Args:\n",
    "        trainset: list of name->gender tuple pairs for training\n",
    "        valset (opt): list of name->gender tuple pairs to validation\n",
    "        weight_file: filename to save classifer weights\n",
    "\n",
    "    \"\"\"\n",
    "\n",
    "    start = time.time()\n",
    "    print(\"Training Naive Bayes Classifer on %d examples (%s)\" % (len(trainset), time_since(start)))\n",
    "    \n",
    "    trainset = apply_features(_gender_features, trainset, labeled=True)\n",
    "    classifier = nltk.NaiveBayesClassifier.train(trainset)\n",
    "\n",
    "    # save weights\n",
    "    with open(weight_file, 'wb') as f:\n",
    "        pickle.dump(classifier, f)\n",
    "        f.close()\n",
    "    \n",
    "    print(\"Training complete. (%s)\" % (time_since(start)))\n",
    "    \n",
    "    # validation\n",
    "    if valset is not None and len(valset) > 0: \n",
    "        valset = apply_features(_gender_features, valset, labeled=True)\n",
    "        acc = nltk.classify.accuracy(classifier, valset)\n",
    "        print(\"Validation accuracy is %.2f%% on %d examples (%s)\" % (acc, len(valset), time_since(start)))"
   ]
  },
  {
   "cell_type": "code",
   "execution_count": 41,
   "metadata": {},
   "outputs": [
    {
     "name": "stdout",
     "output_type": "stream",
     "text": [
      "Validation accuracy is 86.00% on 0 examples (00h 00m 00s)\n"
     ]
    }
   ],
   "source": [
    "print(\"Validation accuracy is %.2f%% on %d examples (%s)\" %\n",
    "      (nltk.classify.accuracy(load_classifier(), apply_features(_gender_features, testset[:100])) * 100,\n",
    "       len(valset), time_since(time.time())))"
   ]
  },
  {
   "cell_type": "code",
   "execution_count": 35,
   "metadata": {},
   "outputs": [
    {
     "name": "stdout",
     "output_type": "stream",
     "text": [
      "0.86\n"
     ]
    }
   ],
   "source": [
    "pct = nltk.classify.accuracy(load_classifier(), apply_features(_gender_features, testset[:100]))\n",
    "print(\"%s\" % (pct))"
   ]
  },
  {
   "cell_type": "code",
   "execution_count": 45,
   "metadata": {},
   "outputs": [
    {
     "name": "stdout",
     "output_type": "stream",
     "text": [
      "Training Naive Bayes Classifer on 101730 examples (00h 00m 00s)\n",
      "Training complete. (00h 01m 09s)\n"
     ]
    }
   ],
   "source": [
    "train_naive_bayes()"
   ]
  },
  {
   "cell_type": "code",
   "execution_count": 92,
   "metadata": {
    "collapsed": true
   },
   "outputs": [],
   "source": [
    "def load_classifier(weight_file=NB_WEIGHTS, verbose=False):\n",
    "    with open(weight_file, 'rb') as f:\n",
    "        classifier = pickle.load(f)\n",
    "        f.close()\n",
    "    if verbose: print('Loaded weights from \"%s\"' % (weight_file))\n",
    "    return classifier"
   ]
  },
  {
   "cell_type": "code",
   "execution_count": 77,
   "metadata": {
    "collapsed": true
   },
   "outputs": [],
   "source": [
    "def classify_name(name, weight_file=NB_WEIGHTS):\n",
    "    name_ = _gender_features(clean_str(name))\n",
    "    classifier = load_classifier(weight_file)\n",
    "    guess = classifier.classify(name_)\n",
    "    print(\"%s -> %s\" % (name, guess))\n",
    "    return guess"
   ]
  },
  {
   "cell_type": "code",
   "execution_count": 108,
   "metadata": {},
   "outputs": [
    {
     "name": "stdout",
     "output_type": "stream",
     "text": [
      "alexandrio -> male (100.00%)\n"
     ]
    },
    {
     "data": {
      "text/plain": [
       "'male'"
      ]
     },
     "execution_count": 108,
     "metadata": {},
     "output_type": "execute_result"
    }
   ],
   "source": [
    "classify_name(\"alexandrio\")"
   ]
  },
  {
   "cell_type": "code",
   "execution_count": 79,
   "metadata": {
    "collapsed": true
   },
   "outputs": [],
   "source": [
    "def test(testset=testset, weight_file=NB_WEIGHTS):\n",
    "    \"\"\"trains classifier on name->gender\n",
    "    \n",
    "    Args:\n",
    "        train: % of examples to train with (e.g., 0.8)\n",
    "    \"\"\"\n",
    "    start = time.time()\n",
    "    classifier = load_classifier(weight_file, verbose=True)\n",
    "    \n",
    "    print(\"Testing Naive Bayes Classifer on %d examples (%s)\" % (len(testset), time_since(start)))\n",
    "    testset = apply_features(_gender_features, testset, labeled=True)\n",
    "    acc = nltk.classify.accuracy(classifier, testset)\n",
    "    print(\"Testing accuracy is %.2f%% on %d examples (%s)\" % (acc, len(testset), time_since(start)))\n",
    "    return acc"
   ]
  },
  {
   "cell_type": "code",
   "execution_count": 59,
   "metadata": {},
   "outputs": [
    {
     "name": "stdout",
     "output_type": "stream",
     "text": [
      "Loaded weights from \"weights/nb/naive_bayes_weights\"\n",
      "Testing Naive Bayes Classifer on 33910 examples (00h 00m 00s)\n",
      "Testing accuracy is 0.85% on 33910 examples (00h 00m 55s)\n"
     ]
    },
    {
     "data": {
      "text/plain": [
       "0.8483043350044235"
      ]
     },
     "execution_count": 59,
     "metadata": {},
     "output_type": "execute_result"
    }
   ],
   "source": [
    "test_classifier()"
   ]
  },
  {
   "cell_type": "code",
   "execution_count": 74,
   "metadata": {
    "collapsed": true
   },
   "outputs": [],
   "source": [
    "def prob_classify_name(name, weight_file=NB_WEIGHTS):\n",
    "    name_ = _gender_features(clean_str(name))\n",
    "    classifier = load_classifier(weight_file)\n",
    "    dist = classifier.prob_classify(name_)\n",
    "    m, f = dist.prob(\"male\"), dist.prob(\"female\")\n",
    "    d = {m: \"male\", f: \"female\"}\n",
    "    first, last = max(m,f), min(m,f)\n",
    "    print(\"%s:\\n  (%.2f%%) %s\\n  (%.2f%%) %s\" % (name, first, d[first], last, d[last]))"
   ]
  },
  {
   "cell_type": "code",
   "execution_count": 110,
   "metadata": {},
   "outputs": [
    {
     "name": "stdout",
     "output_type": "stream",
     "text": [
      "sdf:\n",
      "  (0.99%) male\n",
      "  (0.01%) female\n"
     ]
    }
   ],
   "source": [
    "prob_classify_name(\"sdf\")"
   ]
  },
  {
   "cell_type": "code",
   "execution_count": 100,
   "metadata": {
    "collapsed": true
   },
   "outputs": [],
   "source": [
    "def classify_name(name, weight_file=NB_WEIGHTS):\n",
    "    name_ = _gender_features(clean_str(name))\n",
    "    classifier = load_classifier(weight_file)\n",
    "    dist = classifier.prob_classify(name_)\n",
    "    m, f = dist.prob(\"male\"), dist.prob(\"female\")\n",
    "    d = {m: \"male\", f: \"female\"}\n",
    "    prob = max(m,f)\n",
    "    print(\"%s -> %s (%.2f%%)\" % (name, d[prob], prob * 100))\n",
    "    return d[prob]"
   ]
  },
  {
   "cell_type": "code",
   "execution_count": 97,
   "metadata": {},
   "outputs": [
    {
     "data": {
      "text/plain": [
       "0.8952970936462694"
      ]
     },
     "execution_count": 97,
     "metadata": {},
     "output_type": "execute_result"
    }
   ],
   "source": [
    "load_classifier().prob_classify(_gender_features('ellis')).prob('male')"
   ]
  },
  {
   "cell_type": "code",
   "execution_count": null,
   "metadata": {
    "collapsed": true
   },
   "outputs": [],
   "source": []
  }
 ],
 "metadata": {
  "kernelspec": {
   "display_name": "Python 3",
   "language": "python",
   "name": "python3"
  },
  "language_info": {
   "codemirror_mode": {
    "name": "ipython",
    "version": 3
   },
   "file_extension": ".py",
   "mimetype": "text/x-python",
   "name": "python",
   "nbconvert_exporter": "python",
   "pygments_lexer": "ipython3",
   "version": "3.6.3"
  }
 },
 "nbformat": 4,
 "nbformat_minor": 2
}
